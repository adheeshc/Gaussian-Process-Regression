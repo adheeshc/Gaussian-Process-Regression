{
 "cells": [
  {
   "cell_type": "code",
   "execution_count": 1,
   "metadata": {},
   "outputs": [],
   "source": [
    "import numpy as np\n",
    "from matplotlib import pyplot as plt\n",
    "import pandas as pd\n",
    "np.set_printoptions(suppress=True)\n",
    "import seaborn as sns\n",
    "from math import sin\n",
    "import time\n",
    "from sklearn.metrics import mean_squared_error as mse\n",
    "import pickle as pkl"
   ]
  },
  {
   "cell_type": "code",
   "execution_count": 2,
   "metadata": {
    "scrolled": true
   },
   "outputs": [
    {
     "data": {
      "text/html": [
       "<div>\n",
       "<style scoped>\n",
       "    .dataframe tbody tr th:only-of-type {\n",
       "        vertical-align: middle;\n",
       "    }\n",
       "\n",
       "    .dataframe tbody tr th {\n",
       "        vertical-align: top;\n",
       "    }\n",
       "\n",
       "    .dataframe thead th {\n",
       "        text-align: right;\n",
       "    }\n",
       "</style>\n",
       "<table border=\"1\" class=\"dataframe\">\n",
       "  <thead>\n",
       "    <tr style=\"text-align: right;\">\n",
       "      <th></th>\n",
       "      <th>0</th>\n",
       "      <th>1</th>\n",
       "      <th>2</th>\n",
       "      <th>3</th>\n",
       "      <th>4</th>\n",
       "    </tr>\n",
       "  </thead>\n",
       "  <tbody>\n",
       "    <tr>\n",
       "      <th>0</th>\n",
       "      <td>28.46</td>\n",
       "      <td>49.16</td>\n",
       "      <td>1004.6</td>\n",
       "      <td>38.10</td>\n",
       "      <td>438.02</td>\n",
       "    </tr>\n",
       "    <tr>\n",
       "      <th>1</th>\n",
       "      <td>27.20</td>\n",
       "      <td>49.16</td>\n",
       "      <td>1005.3</td>\n",
       "      <td>46.73</td>\n",
       "      <td>440.57</td>\n",
       "    </tr>\n",
       "    <tr>\n",
       "      <th>2</th>\n",
       "      <td>27.36</td>\n",
       "      <td>66.54</td>\n",
       "      <td>1011.3</td>\n",
       "      <td>45.30</td>\n",
       "      <td>436.69</td>\n",
       "    </tr>\n",
       "    <tr>\n",
       "      <th>3</th>\n",
       "      <td>10.77</td>\n",
       "      <td>41.46</td>\n",
       "      <td>1021.4</td>\n",
       "      <td>87.18</td>\n",
       "      <td>479.22</td>\n",
       "    </tr>\n",
       "    <tr>\n",
       "      <th>4</th>\n",
       "      <td>14.79</td>\n",
       "      <td>47.83</td>\n",
       "      <td>1007.3</td>\n",
       "      <td>92.04</td>\n",
       "      <td>463.22</td>\n",
       "    </tr>\n",
       "  </tbody>\n",
       "</table>\n",
       "</div>"
      ],
      "text/plain": [
       "       0      1       2      3       4\n",
       "0  28.46  49.16  1004.6  38.10  438.02\n",
       "1  27.20  49.16  1005.3  46.73  440.57\n",
       "2  27.36  66.54  1011.3  45.30  436.69\n",
       "3  10.77  41.46  1021.4  87.18  479.22\n",
       "4  14.79  47.83  1007.3  92.04  463.22"
      ]
     },
     "execution_count": 2,
     "metadata": {},
     "output_type": "execute_result"
    }
   ],
   "source": [
    "trainData=pd.read_csv('Dataset/problem4b_train.csv',header=None)\n",
    "trainData.head()"
   ]
  },
  {
   "cell_type": "code",
   "execution_count": 3,
   "metadata": {
    "scrolled": true
   },
   "outputs": [
    {
     "data": {
      "text/plain": [
       "(8611, 4)"
      ]
     },
     "execution_count": 3,
     "metadata": {},
     "output_type": "execute_result"
    }
   ],
   "source": [
    "x_train=trainData.iloc[:,:4].values\n",
    "x_train.shape"
   ]
  },
  {
   "cell_type": "code",
   "execution_count": 4,
   "metadata": {},
   "outputs": [
    {
     "data": {
      "text/plain": [
       "(8611,)"
      ]
     },
     "execution_count": 4,
     "metadata": {},
     "output_type": "execute_result"
    }
   ],
   "source": [
    "y_train=trainData.iloc[:,-1].values\n",
    "y_train.shape"
   ]
  },
  {
   "cell_type": "code",
   "execution_count": 5,
   "metadata": {},
   "outputs": [
    {
     "data": {
      "text/html": [
       "<div>\n",
       "<style scoped>\n",
       "    .dataframe tbody tr th:only-of-type {\n",
       "        vertical-align: middle;\n",
       "    }\n",
       "\n",
       "    .dataframe tbody tr th {\n",
       "        vertical-align: top;\n",
       "    }\n",
       "\n",
       "    .dataframe thead th {\n",
       "        text-align: right;\n",
       "    }\n",
       "</style>\n",
       "<table border=\"1\" class=\"dataframe\">\n",
       "  <thead>\n",
       "    <tr style=\"text-align: right;\">\n",
       "      <th></th>\n",
       "      <th>0</th>\n",
       "      <th>1</th>\n",
       "      <th>2</th>\n",
       "      <th>3</th>\n",
       "    </tr>\n",
       "  </thead>\n",
       "  <tbody>\n",
       "    <tr>\n",
       "      <th>0</th>\n",
       "      <td>12.71</td>\n",
       "      <td>43.80</td>\n",
       "      <td>1023.1</td>\n",
       "      <td>71.16</td>\n",
       "    </tr>\n",
       "    <tr>\n",
       "      <th>1</th>\n",
       "      <td>25.69</td>\n",
       "      <td>57.32</td>\n",
       "      <td>1012.3</td>\n",
       "      <td>44.18</td>\n",
       "    </tr>\n",
       "    <tr>\n",
       "      <th>2</th>\n",
       "      <td>14.40</td>\n",
       "      <td>42.18</td>\n",
       "      <td>1015.5</td>\n",
       "      <td>77.70</td>\n",
       "    </tr>\n",
       "    <tr>\n",
       "      <th>3</th>\n",
       "      <td>11.45</td>\n",
       "      <td>40.80</td>\n",
       "      <td>1027.7</td>\n",
       "      <td>78.60</td>\n",
       "    </tr>\n",
       "    <tr>\n",
       "      <th>4</th>\n",
       "      <td>25.36</td>\n",
       "      <td>61.41</td>\n",
       "      <td>1011.9</td>\n",
       "      <td>55.64</td>\n",
       "    </tr>\n",
       "  </tbody>\n",
       "</table>\n",
       "</div>"
      ],
      "text/plain": [
       "       0      1       2      3\n",
       "0  12.71  43.80  1023.1  71.16\n",
       "1  25.69  57.32  1012.3  44.18\n",
       "2  14.40  42.18  1015.5  77.70\n",
       "3  11.45  40.80  1027.7  78.60\n",
       "4  25.36  61.41  1011.9  55.64"
      ]
     },
     "execution_count": 5,
     "metadata": {},
     "output_type": "execute_result"
    }
   ],
   "source": [
    "testData=pd.read_csv('Dataset/problem4b_test.csv',header=None)\n",
    "testData.head()"
   ]
  },
  {
   "cell_type": "code",
   "execution_count": 6,
   "metadata": {},
   "outputs": [
    {
     "data": {
      "text/plain": [
       "(957, 4)"
      ]
     },
     "execution_count": 6,
     "metadata": {},
     "output_type": "execute_result"
    }
   ],
   "source": [
    "x_test=testData.iloc[:,:].values\n",
    "x_test.shape"
   ]
  },
  {
   "cell_type": "code",
   "execution_count": 7,
   "metadata": {},
   "outputs": [
    {
     "name": "stdout",
     "output_type": "stream",
     "text": [
      "(957, 1)\n"
     ]
    }
   ],
   "source": [
    "def get_y(x_test):\n",
    "    \n",
    "    y_test=np.genfromtxt('Dataset/problem4b_sol.csv',delimiter=',')\n",
    "    return y_test\n",
    "y_test=get_y(x_test)\n",
    "y_test=y_test.reshape(-1,1)\n",
    "print(y_test.shape)"
   ]
  },
  {
   "cell_type": "code",
   "execution_count": 8,
   "metadata": {},
   "outputs": [],
   "source": [
    "from sklearn.gaussian_process import GaussianProcessRegressor\n",
    "from sklearn.gaussian_process.kernels import RBF, ConstantKernel as C\n",
    "from sklearn.gaussian_process.kernels import RationalQuadratic as RQ\n",
    "from sklearn.gaussian_process.kernels import ExpSineSquared as ESS"
   ]
  },
  {
   "cell_type": "code",
   "execution_count": 9,
   "metadata": {},
   "outputs": [],
   "source": [
    "C1 = C(1.0, (1e-3, 1e3))\n",
    "C2 = C(0.5, (1e-3, 1e3))\n",
    "RBF1 = RBF(10, (1e-2, 1e2))\n",
    "RBF2 = RBF(0.5, (1e-2, 1e2))\n",
    "RQ1 = RQ(10, 0.5 ,(1e-2, 1e2))\n",
    "#ESS1 = ESS(1.0, 1.0, (1e-05, 100000.0), (1e-05, 100000.0))\n",
    "kernel1 = C1 * RBF1 + C2\n",
    "kernel2 = C1 * RBF1 + RBF2\n",
    "kernel3 = C1 * RQ1 + RBF2\n",
    "#kernel4 = C1 * ESS1 + RBF2"
   ]
  },
  {
   "cell_type": "code",
   "execution_count": null,
   "metadata": {
    "scrolled": false
   },
   "outputs": [],
   "source": [
    "GP = []\n",
    "for ndx, kernel in zip([1,2,3], [kernel1,kernel2, kernel3]):\n",
    "    t = time.time()\n",
    "    print('---------------------------------------------------------------------------')\n",
    "    print(f'time - {t} :: Fitting GP for kernel - {ndx}')\n",
    "    gp = GaussianProcessRegressor(kernel=kernel, alpha=0.5 ** 5,\n",
    "                              n_restarts_optimizer=1)\n",
    "    gp.fit(x_train, y_train)\n",
    "    with open( f\"Dataset/GP_for_Kernel_CCPP_{ndx}.pkl\", \"wb\" ) as f:\n",
    "        pkl.dump(gp, f)\n",
    "    GP.append(gp)\n",
    "    print(f'GP for Kernel - {ndx} Finished :: Elapsed Time - {time.time()-t}')\n",
    "    print('---------------------------------------------------------------------------')"
   ]
  },
  {
   "cell_type": "code",
   "execution_count": null,
   "metadata": {},
   "outputs": [],
   "source": [
    "y_pred=[]\n",
    "sigma=[]\n",
    "for gp in (GP):\n",
    "    pred1, sigma1 = gp.predict(x_test, return_std=True)\n",
    "    print(gp.kernel_)\n",
    "    y_pred.append(pred1)\n",
    "    sigma.append(sigma1)\n",
    "y_pred1=np.array(y_pred)\n",
    "y_pred1=y_pred1.T\n",
    "for i in range(0,y_pred1.shape[1]):\n",
    "    print(f'MSE for kernel {i} is {mse(y_pred1[:,i],y_test)}')"
   ]
  },
  {
   "cell_type": "code",
   "execution_count": null,
   "metadata": {},
   "outputs": [],
   "source": [
    "for i in range(0,len(y_pred)):\n",
    "    plt.plot(x_train, y_train, 'r:', label=r'$f(x) = sin(3x)$')\n",
    "    plt.errorbar(x_train.ravel(), y_train, 0, fmt='r.', markersize=10, label='Observations')\n",
    "    plt.plot(x_test, y_pred[i], 'b-', label='Prediction')\n",
    "    plt.fill(np.concatenate([x_test, x_test[::-1]]),\n",
    "                 np.concatenate([y_pred[i] - 1.95 * sigma[i],\n",
    "                                (y_pred[i] + 1.95 * sigma[i])[::-1]]),\n",
    "                 alpha=.5, fc='b', ec='None', label='95% confidence interval')\n",
    "    plt.legend(loc='upper left')\n",
    "    plt.show()"
   ]
  },
  {
   "cell_type": "code",
   "execution_count": null,
   "metadata": {},
   "outputs": [],
   "source": [
    "f, axs = plt.subplots(2,2)\n",
    "for ndx, gp, ax in zip([1,2,3,4], GP, [[0,0],[0,1],[1,0],[1,1]]):\n",
    "    y_pred, sigma = gp.predict(x_test, return_std=True)\n",
    "    axs[ax[0],ax[1]].plot(x_train, y_train, 'r:', label=r'$f(x) = sin(3x)$')\n",
    "    axs[ax[0],ax[1]].errorbar(x_train.ravel(), y_train,0, fmt='r.', markersize=10, label='Observations')\n",
    "    axs[ax[0],ax[1]].plot(x_test, y_pred, 'b-', label='Prediction')\n",
    "    axs[ax[0],ax[1]].fill(np.concatenate([x_test, x_test[::-1]]),\n",
    "             np.concatenate([y_pred - 1.95 * sigma,\n",
    "                            (y_pred + 1.95 * sigma)[::-1]]),\n",
    "             alpha=.5, fc='b', ec='None', label='95% confidence interval')\n",
    "    axs[ax[0],ax[1]].set_xlabel('$x$')\n",
    "    axs[ax[0],ax[1]].set_ylabel('$f(x)$')\n",
    "    axs[ax[0],ax[1]].set_ylim(-10, 20)\n",
    "    #axs[ax[0],ax[1]].legend(loc='upper left')"
   ]
  }
 ],
 "metadata": {
  "kernelspec": {
   "display_name": "Python 3",
   "language": "python",
   "name": "python3"
  },
  "language_info": {
   "codemirror_mode": {
    "name": "ipython",
    "version": 3
   },
   "file_extension": ".py",
   "mimetype": "text/x-python",
   "name": "python",
   "nbconvert_exporter": "python",
   "pygments_lexer": "ipython3",
   "version": "3.7.3"
  }
 },
 "nbformat": 4,
 "nbformat_minor": 2
}
